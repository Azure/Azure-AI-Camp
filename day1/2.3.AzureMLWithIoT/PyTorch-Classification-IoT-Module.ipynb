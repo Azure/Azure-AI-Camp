{
 "cells": [
  {
   "cell_type": "markdown",
   "metadata": {},
   "source": [
    "#  Azure ML and IoT Edge\n"
   ]
  },
  {
   "cell_type": "markdown",
   "metadata": {},
   "source": [
    "Ensure we have a consistent version of the Azure ML SDK."
   ]
  },
  {
   "cell_type": "code",
   "execution_count": null,
   "metadata": {},
   "outputs": [],
   "source": [
    "import sys\n",
    "! {sys.executable} -m pip install -q --upgrade azureml-sdk[notebooks,automl,contrib]==1.5.0"
   ]
  },
  {
   "cell_type": "code",
   "execution_count": null,
   "metadata": {},
   "outputs": [],
   "source": [
    "from azureml.core.model import Model\n",
    "from azureml.core.environment import Environment\n",
    "\n",
    "import warnings\n",
    "warnings.filterwarnings('ignore')\n",
    "\n",
    "import logging\n",
    "logger = logging.getLogger()\n",
    "logger.setLevel(logging.CRITICAL)"
   ]
  },
  {
   "cell_type": "code",
   "execution_count": null,
   "metadata": {},
   "outputs": [],
   "source": [
    "# Check core SDK version number\n",
    "import azureml.core\n",
    "from azureml.core import Workspace\n",
    "\n",
    "print(\"SDK version:\", azureml.core.VERSION)"
   ]
  },
  {
   "cell_type": "markdown",
   "metadata": {},
   "source": [
    "## 1: Specify parameters\n",
    "Fill in the parameters below.  If you already have IoT Hub or Azure ML workspace, then enter their information here. Otherwise, the parameter names will be used in provisioning new services."
   ]
  },
  {
   "cell_type": "code",
   "execution_count": null,
   "metadata": {},
   "outputs": [],
   "source": [
    "# Provide the same experiment suffix used in the PyTorch training notebook. Replace ***\n",
    "my_nickname = ***\n",
    "\n",
    "# Provide your Azure subscription ID to provision your services\n",
    "subscription_id = \"\"\n",
    "\n",
    "# Provide your Azure ML service resource group and workspace name \n",
    "# If you don't have a workspace, pick a name to create a new one\n",
    "resource_group_name_aml = \"\"\n",
    "aml_workspace_name = \"\""
   ]
  },
  {
   "cell_type": "code",
   "execution_count": null,
   "metadata": {},
   "outputs": [],
   "source": [
    "# DO NOT CHANGE THESE VALUES for this tutorial\n",
    "\n",
    "# Enter the resource group in Azure where you want to provision the resources\n",
    "# or where IoT Hub exists\n",
    "resource_group_name_iot = \"iot-aicamp-\" + my_nickname\n",
    "\n",
    "# Enter Azure region where your IoT services will be provisioned, for example \"eastus2\"\n",
    "azure_region = \"eastus2\"\n",
    "\n",
    "# Enter your Azure IoT Hub name \n",
    "# If you don't have an IoT Hub, pick a name to make a new one \n",
    "iot_hub_name = \"iothub-aicamp-\" + my_nickname\n",
    "\n",
    "# Enter your IoT Edge device ID \n",
    "# If you don't have an IoT Edge device registered, pick a name to create a new one \n",
    "# This is NOT the name of your VM, but it's just an entry in your IoT Hub, so you can pick any name\n",
    "iot_device_id = \"edge-vm-device\"\n",
    "\n",
    "# Enter a name for the IoT Edge VM\n",
    "edge_vm_name = \"edge-vm-\" + my_nickname\n",
    "\n",
    "# This is the name of the AML module you deploy to the device\n",
    "module_name = \"machinelearningmodule\""
   ]
  },
  {
   "cell_type": "markdown",
   "metadata": {},
   "source": [
    "The login command below will trigger interactive login.  Follow the directions printed below."
   ]
  },
  {
   "cell_type": "code",
   "execution_count": null,
   "metadata": {},
   "outputs": [],
   "source": [
    "! sudo az login"
   ]
  },
  {
   "cell_type": "code",
   "execution_count": null,
   "metadata": {
    "scrolled": false
   },
   "outputs": [],
   "source": [
    "# Just in case this is the command to update the Azure CLI\n",
    "# ! curl -sL https://aka.ms/InstallAzureCLIDeb | sudo bash"
   ]
  },
  {
   "cell_type": "code",
   "execution_count": null,
   "metadata": {},
   "outputs": [],
   "source": [
    "# Load the IoT extension for Azure CLI if needed - may not work in the notebook so try in terminal if not\n",
    "! sudo az extension add --name azure-cli-iot-ext"
   ]
  },
  {
   "cell_type": "code",
   "execution_count": null,
   "metadata": {},
   "outputs": [],
   "source": [
    "! sudo az account set --subscription $subscription_id"
   ]
  },
  {
   "cell_type": "code",
   "execution_count": null,
   "metadata": {},
   "outputs": [],
   "source": [
    "! sudo az group create --name $resource_group_name_iot --location $azure_region"
   ]
  },
  {
   "cell_type": "markdown",
   "metadata": {},
   "source": [
    "## 2: Provision IoT Hub \n",
    "If you already have provisioned these resources, then skip this section and go Section 3."
   ]
  },
  {
   "cell_type": "markdown",
   "metadata": {},
   "source": [
    "### 2.1 Provision an Edge VM\n",
    "\n",
    "**IMPORTANT NOTE**: Before you proceed, you must perform a one-time task to accept the terms of the data science virtual machine on your Azure subscription. You can do this by visiting [Configure Programmatic Deployment](https://ms.portal.azure.com/#blade/Microsoft_Azure_Marketplace/LegalTermsSkuProgrammaticAccessBlade/legalTermsSkuProgrammaticAccessData/%7B%22product%22%3A%7B%22publisherId%22%3A%22microsoft_iot_edge%22%2C%22offerId%22%3A%22iot_edge_vm_ubuntu%22%2C%22planId%22%3A%22ubuntu_1604_edgeruntimeonly%22%7D%7D)"
   ]
  },
  {
   "cell_type": "code",
   "execution_count": null,
   "metadata": {},
   "outputs": [],
   "source": [
    "! sudo az vm create --resource-group $resource_group_name_iot --name $edge_vm_name --image microsoft_iot_edge:iot_edge_vm_ubuntu:ubuntu_1604_edgeruntimeonly:latest --admin-username azureuser --generate-ssh-keys\n",
    "\n",
    "\n",
    "            "
   ]
  },
  {
   "cell_type": "markdown",
   "metadata": {},
   "source": [
    "If you want to SSH into this VM after setup, use the publicIpAddress with the command: `ssh azureuser@{publicIpAddress}`.  To open up ports for SSH issues see <a href=\"https://docs.microsoft.com/en-us/azure/iot-edge/how-to-install-iot-edge-ubuntuvm#next-steps\" target=\"_blank\">this resource</a>."
   ]
  },
  {
   "cell_type": "markdown",
   "metadata": {},
   "source": [
    "### 2.2: Provision IoT Hub\n",
    "\n",
    "If you get an error because there's already one free hub in your subscription, change the SKU to S1. If you get an error that the IoT Hub name isn't available, it means that someone else already has a hub with that name so try a different name.\n"
   ]
  },
  {
   "cell_type": "code",
   "execution_count": null,
   "metadata": {},
   "outputs": [],
   "source": [
    "! sudo az iot hub create --resource-group $resource_group_name_iot --name $iot_hub_name --sku F1"
   ]
  },
  {
   "cell_type": "markdown",
   "metadata": {},
   "source": [
    "### 2.3 Register an IoT Edge device"
   ]
  },
  {
   "cell_type": "code",
   "execution_count": null,
   "metadata": {},
   "outputs": [],
   "source": [
    "# Register an IoT Edge device (create a new entry in the Iot Hub)\n",
    "! sudo az iot hub device-identity create --hub-name  $iot_hub_name --device-id $iot_device_id --edge-enabled"
   ]
  },
  {
   "cell_type": "markdown",
   "metadata": {},
   "source": [
    "## 3: Load resources\n",
    "Load the Azure ML workspace and get the IoT Edge device connection string from your IoT Hub."
   ]
  },
  {
   "cell_type": "markdown",
   "metadata": {},
   "source": [
    "### 3.1 Load the Azure ML workspace."
   ]
  },
  {
   "cell_type": "code",
   "execution_count": null,
   "metadata": {
    "tags": [
     "create workspace"
    ]
   },
   "outputs": [],
   "source": [
    "# Initialize a workspace object from persisted configuration\n",
    "from azureml.core import Workspace\n",
    "\n",
    "ws = Workspace.from_config(path=\"config.json\")\n",
    "\n",
    "print(ws.name, ws.resource_group, ws.location, ws.subscription_id, sep='\\n')"
   ]
  },
  {
   "cell_type": "markdown",
   "metadata": {},
   "source": [
    "### 3.2: Get the Azure IoT Edge device connection string\n",
    "\n",
    "Set the Edge connection string on the device.\n",
    "\n",
    "Instruction can be found here:  https://docs.microsoft.com/en-us/azure/iot-edge/how-to-install-iot-edge-linux#configure-the-security-daemon."
   ]
  },
  {
   "cell_type": "code",
   "execution_count": null,
   "metadata": {
    "scrolled": true
   },
   "outputs": [],
   "source": [
    "# Get the connection string that you will need to enter in the IoT Edge device\n",
    "! sudo az iot hub device-identity show-connection-string --device-id $iot_device_id --hub-name $iot_hub_name"
   ]
  },
  {
   "cell_type": "markdown",
   "metadata": {},
   "source": [
    "Replace the `HostName=...` in the following variable with the entire connection string from above."
   ]
  },
  {
   "cell_type": "code",
   "execution_count": null,
   "metadata": {},
   "outputs": [],
   "source": [
    "# Secret!!!  Don't check in to source control\n",
    "conn_str = \"HostName=...\"\n",
    "\n",
    "# Don't modify this part\n",
    "set_cmd = \"/etc/iotedge/configedge.sh '\"+conn_str+\"'\"\n",
    "print(set_cmd)"
   ]
  },
  {
   "cell_type": "code",
   "execution_count": null,
   "metadata": {},
   "outputs": [],
   "source": [
    "! sudo az vm run-command invoke -g $resource_group_name_iot -n $edge_vm_name --command-id RunShellScript --script \"$set_cmd\""
   ]
  },
  {
   "cell_type": "markdown",
   "metadata": {},
   "source": [
    "## 4: PyTorch Classification Model\n",
    "\n",
    "We've already:\n",
    "- Trained the model\n",
    "- Created the scoring script\n",
    "- Deployed it as a service to Azure Container Instance"
   ]
  },
  {
   "cell_type": "markdown",
   "metadata": {},
   "source": [
    "### 4.1 Get registered model"
   ]
  },
  {
   "cell_type": "code",
   "execution_count": null,
   "metadata": {},
   "outputs": [],
   "source": [
    "model = Model(ws,'behavior-pytorch-'+my_nickname, version=1)"
   ]
  },
  {
   "cell_type": "markdown",
   "metadata": {},
   "source": [
    "### 4.2 Create Docker Image"
   ]
  },
  {
   "cell_type": "markdown",
   "metadata": {},
   "source": [
    "Specify the required packages for the image."
   ]
  },
  {
   "cell_type": "code",
   "execution_count": null,
   "metadata": {},
   "outputs": [],
   "source": [
    "# This specifies the dependencies to include in the environment\n",
    "from azureml.core.conda_dependencies import CondaDependencies \n",
    "\n",
    "myenv = CondaDependencies.create(pip_packages=['azureml-defaults==1.5.0', \n",
    "                                               'torch==1.3.0', \n",
    "                                               'torchvision==0.4.1',\n",
    "                                               'Pillow==6.2.1'])\n",
    "\n",
    "with open(\"myenv.yml\",\"w\") as f:\n",
    "    f.write(myenv.serialize_to_string())\n",
    "    \n",
    "print(myenv.serialize_to_string())"
   ]
  },
  {
   "cell_type": "markdown",
   "metadata": {},
   "source": [
    "You can add tags and descriptions to images. Also, an image can contain multiple models."
   ]
  },
  {
   "cell_type": "code",
   "execution_count": null,
   "metadata": {
    "tags": [
     "create image"
    ]
   },
   "outputs": [],
   "source": [
    "from azureml.core.image import Image, ContainerImage\n",
    "\n",
    "image_config = ContainerImage.image_configuration(runtime=\"python\",\n",
    "                                 execution_script=\"pytorch_score_iot.py\",\n",
    "                                 conda_file=\"myenv.yml\",\n",
    "                                 tags={'area': \"iot\", 'type': \"classification\", \"framework\": \"pytorch\"},\n",
    "                                 description=\"IoT Edge PyTorch classification model for suspicious behavior; Pillow<7\")\n",
    "\n",
    "\n",
    "image = Image.create(name=\"suspiciousbehaviorclass\",\n",
    "                     # this is the model object \n",
    "                     models=[model],\n",
    "                     image_config=image_config, \n",
    "                     workspace=ws)"
   ]
  },
  {
   "cell_type": "markdown",
   "metadata": {},
   "source": [
    "Note that following command can take few minutes. "
   ]
  },
  {
   "cell_type": "code",
   "execution_count": null,
   "metadata": {
    "scrolled": false,
    "tags": [
     "create image"
    ]
   },
   "outputs": [],
   "source": [
    "image.wait_for_creation(show_output=True)"
   ]
  },
  {
   "cell_type": "markdown",
   "metadata": {},
   "source": [
    "List images by tag and find out the detailed build log for debugging."
   ]
  },
  {
   "cell_type": "code",
   "execution_count": null,
   "metadata": {
    "scrolled": true,
    "tags": [
     "create image"
    ]
   },
   "outputs": [],
   "source": [
    "for i in Image.list(workspace=ws, tags=[\"area\"]):\n",
    "    print('{}(v.{} [{}]) stored at {} with build log {}'.format(i.name, i.version, i.creation_state, i.image_location, i.image_build_log_uri))"
   ]
  },
  {
   "cell_type": "markdown",
   "metadata": {},
   "source": [
    "## 5: Deploy container to Azure IoT Edge device\n",
    "Create a deployment.json file that contains the modules you want to deploy to the device and the routes.  Then push this file to the IoT Hub, which will then send it to the IoT Edge device.  The IoT Edge agent will then pull the Docker images and run them."
   ]
  },
  {
   "cell_type": "code",
   "execution_count": null,
   "metadata": {},
   "outputs": [],
   "source": [
    "# Getting your container details\n",
    "container_reg = ws.get_details()[\"containerRegistry\"]\n",
    "reg_name=container_reg.split(\"/\")[-1]\n",
    "container_url = \"\\\"\" + image.image_location + \"\\\",\"\n",
    "subscription_id = ws.subscription_id\n",
    "print('{}'.format(image.image_location))\n",
    "print('{}'.format(reg_name))\n",
    "print('{}'.format(subscription_id))\n",
    "from azure.mgmt.containerregistry import ContainerRegistryManagementClient\n",
    "from azure.mgmt import containerregistry\n",
    "client = ContainerRegistryManagementClient(ws._auth,subscription_id)\n",
    "result= client.registries.list_credentials(resource_group_name_aml, reg_name, custom_headers=None, raw=False)\n",
    "username = result.username\n",
    "password = result.passwords[0].value"
   ]
  },
  {
   "cell_type": "markdown",
   "metadata": {},
   "source": [
    "The file modified below is a standar IoT Edge manifest file.  This is how IoT Edge and IoT Hub know what modules to deploy down to the device (which in this case is an Azure VM running IoT Edge Runtime)."
   ]
  },
  {
   "cell_type": "code",
   "execution_count": null,
   "metadata": {},
   "outputs": [],
   "source": [
    "file = open('iot-deployment-template.json')\n",
    "contents = file.read()\n",
    "contents = contents.replace('__MODULE_NAME', module_name)\n",
    "contents = contents.replace('__REGISTRY_NAME', reg_name)\n",
    "contents = contents.replace('__REGISTRY_USER_NAME', username)\n",
    "contents = contents.replace('__REGISTRY_PASSWORD', password)\n",
    "contents = contents.replace('__REGISTRY_IMAGE_LOCATION', image.image_location)\n",
    "with open('./deployment.json', 'wt', encoding='utf-8') as output_file:\n",
    "    output_file.write(contents)"
   ]
  },
  {
   "cell_type": "markdown",
   "metadata": {},
   "source": [
    "The following commmand will tell IoT Hub to deploy down the modules from images in the ACR."
   ]
  },
  {
   "cell_type": "code",
   "execution_count": null,
   "metadata": {},
   "outputs": [],
   "source": [
    "# Push the deployment JSON to the IOT Hub\n",
    "! sudo az iot edge set-modules --device-id $iot_device_id --hub-name $iot_hub_name --content deployment.json"
   ]
  },
  {
   "cell_type": "markdown",
   "metadata": {},
   "source": [
    "## Congratulations!\n",
    "You made it to the end of the tutorial!  You can monitor messages from your edge device to your IoT Hub with VS Code and the [Azure IoT Hub Toolkit](https://marketplace.visualstudio.com/items?itemName=vsciot-vscode.azure-iot-toolkit) extension.\n",
    "\n",
    "After installing the extension in VSCode, log in to the Azure Account (View -> Command Palette -> \"Azure: Sign in to Azure Cloud\").\n",
    "\n",
    "Select the IoT Hub by:  View -> Command Palette -> \"Azure IoT Hub:  Set IoT Hub Connection String\".\n",
    "\n",
    "<img width=\"50%\" src=\"../../assets/iot_edge_select_iot_hub_conn_str.png\">\n",
    "\n",
    "Monitor the built in endpoint by right clicking on the Device under the Azure IoT Hub (expand this in the lower left corner), selecting \"Start Monitoring Built-in Event Endpoint\" (will monitor all messages from any device module to IoT Hub).\n",
    "\n",
    "<img width=\"50%\" src=\"../../assets/iot_edge_monitor_vscode.png\">"
   ]
  },
  {
   "cell_type": "markdown",
   "metadata": {},
   "source": [
    "If selecting \"Start Monitoring Built-in Event Endpoint\" in VSCode, the output should look like:\n",
    "\n",
    "\n",
    "```\n",
    "\n",
    "[IoTHubMonitor] Start monitoring message arrived in built-in endpoint for device [edge-vm-device] ...\n",
    "[IoTHubMonitor] Created partition receiver [0] for consumerGroup [$Default]\n",
    "[IoTHubMonitor] Created partition receiver [1] for consumerGroup [$Default]\n",
    "[IoTHubMonitor] [7:59:45 PM] Message received from [edge-vm-device/machinelearningmodule]:\n",
    "{\n",
    "  \"body\": {\n",
    "    \"label\": \"suspicious\",\n",
    "    \"probability\": \"0.5001148\",\n",
    "    \"filename\": \"Walk3frame0002.jpg\"\n",
    "  },\n",
    "  \"applicationProperties\": {\n",
    "    \"AzureMLResponse\": \"OK\"\n",
    "  }\n",
    "}\n",
    "[IoTHubMonitor] [7:59:45 PM] Message received from [edge-vm-device/machinelearningmodule]:\n",
    "{\n",
    "  \"body\": {\n",
    "    \"label\": \"suspicious\",\n",
    "    \"probability\": \"0.5\",\n",
    "    \"filename\": \"Browse_WhileWaiting2frame0000.jpg\"\n",
    "  },\n",
    "  \"applicationProperties\": {\n",
    "    \"AzureMLResponse\": \"OK\"\n",
    "  }\n",
    "}\n",
    "```"
   ]
  },
  {
   "cell_type": "code",
   "execution_count": null,
   "metadata": {},
   "outputs": [],
   "source": []
  }
 ],
 "metadata": {
  "authors": [
   {
    "name": "raymondl"
   }
  ],
  "kernelspec": {
   "display_name": "Python 3.6 - AzureML",
   "language": "python",
   "name": "python3-azureml"
  },
  "language_info": {
   "codemirror_mode": {
    "name": "ipython",
    "version": 3
   },
   "file_extension": ".py",
   "mimetype": "text/x-python",
   "name": "python",
   "nbconvert_exporter": "python",
   "pygments_lexer": "ipython3",
   "version": "3.6.9"
  }
 },
 "nbformat": 4,
 "nbformat_minor": 2
}
